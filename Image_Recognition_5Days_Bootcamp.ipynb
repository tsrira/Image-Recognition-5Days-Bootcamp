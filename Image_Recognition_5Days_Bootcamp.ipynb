{
  "nbformat": 4,
  "nbformat_minor": 0,
  "metadata": {
    "colab": {
      "provenance": []
    },
    "kernelspec": {
      "name": "python3",
      "display_name": "Python 3"
    },
    "language_info": {
      "name": "python"
    }
  },
  "cells": [
    {
      "cell_type": "markdown",
      "source": [
        "# Day 01\n",
        "\n",
        "**What is Image Recognition?**\n",
        "\n",
        "Image recognition is a technology that allows computers to identify and understand objects, people, places, or patterns in images.\n",
        "For example:\n",
        "\n",
        "* Facebook tagging a friend in a photo\n",
        "\n",
        "* Google Photos grouping similar images\n",
        "\n",
        "* A self-driving car recognizing traffic signs\n",
        "\n",
        "It is often done using machine learning or deep learning techniques.\n",
        "\n",
        "\n",
        "**What is Deep Learning?**\n",
        "\n",
        "Deep learning is a type of machine learning where a computer learns patterns using many layers of artificial neurons (similar to the human brain’s structure).\n",
        "\n",
        "* It works well with large amounts of data.\n",
        "\n",
        "* Used in speech recognition, image classification, translation, and more.\n",
        "Example: A deep learning model can learn to tell if an image contains a cat or a dog, without being explicitly told the rules for “cat” or “dog.”\n",
        "\n",
        "**What is a Dataset?**\n",
        "\n",
        "A dataset is a collection of data used for training and testing machine learning models.\n",
        "\n",
        "* In image recognition, a dataset might be a folder containing thousands of labeled images (e.g., “cat,” “dog,” “car”).\n",
        "\n",
        "* In text analysis, a dataset could be thousands of sentences or documents.\n",
        "\n",
        "**Why Preprocessing?**\n",
        "\n",
        "Preprocessing is cleaning and preparing raw data before feeding it into a machine learning model.\n",
        "Reasons:\n",
        "\n",
        "* Remove noise or errors in the data\n",
        "\n",
        "* Standardize formats (e.g., resize images, normalize values)\n",
        "\n",
        "* Improve model accuracy and speed\n",
        "\n",
        "Example: Before training an image recognition model, you might resize all images to 224×224 pixels and adjust brightness.\n",
        "\n",
        "**What is EDA (Exploratory Data Analysis?)**\n",
        "\n",
        "Exploratory Data Analysis is the process of examining and visualizing data to understand its structure, patterns, and relationships before building a model.\n",
        "You might:\n",
        "\n",
        "* Check for missing values\n",
        "\n",
        "* Look at distributions of data\n",
        "\n",
        "Create plots and graphs\n",
        "Purpose: To detect problems, gain insights, and decide next steps in data preparation."
      ],
      "metadata": {
        "id": "CTyMlPVinh9w"
      }
    },
    {
      "cell_type": "code",
      "source": [
        "!pip install -q kaggle"
      ],
      "metadata": {
        "id": "RahVHTyhnxGB"
      },
      "execution_count": null,
      "outputs": []
    },
    {
      "cell_type": "code",
      "source": [
        "from google.colab import files\n",
        "files.upload()"
      ],
      "metadata": {
        "colab": {
          "base_uri": "https://localhost:8080/",
          "height": 90
        },
        "id": "4NJHiXJyph3k",
        "outputId": "25ef00a7-c4da-47be-e6d5-eb724cbad127"
      },
      "execution_count": null,
      "outputs": [
        {
          "output_type": "display_data",
          "data": {
            "text/plain": [
              "<IPython.core.display.HTML object>"
            ],
            "text/html": [
              "\n",
              "     <input type=\"file\" id=\"files-ed079614-d6f4-40ce-9aed-ce7cc690f593\" name=\"files[]\" multiple disabled\n",
              "        style=\"border:none\" />\n",
              "     <output id=\"result-ed079614-d6f4-40ce-9aed-ce7cc690f593\">\n",
              "      Upload widget is only available when the cell has been executed in the\n",
              "      current browser session. Please rerun this cell to enable.\n",
              "      </output>\n",
              "      <script>// Copyright 2017 Google LLC\n",
              "//\n",
              "// Licensed under the Apache License, Version 2.0 (the \"License\");\n",
              "// you may not use this file except in compliance with the License.\n",
              "// You may obtain a copy of the License at\n",
              "//\n",
              "//      http://www.apache.org/licenses/LICENSE-2.0\n",
              "//\n",
              "// Unless required by applicable law or agreed to in writing, software\n",
              "// distributed under the License is distributed on an \"AS IS\" BASIS,\n",
              "// WITHOUT WARRANTIES OR CONDITIONS OF ANY KIND, either express or implied.\n",
              "// See the License for the specific language governing permissions and\n",
              "// limitations under the License.\n",
              "\n",
              "/**\n",
              " * @fileoverview Helpers for google.colab Python module.\n",
              " */\n",
              "(function(scope) {\n",
              "function span(text, styleAttributes = {}) {\n",
              "  const element = document.createElement('span');\n",
              "  element.textContent = text;\n",
              "  for (const key of Object.keys(styleAttributes)) {\n",
              "    element.style[key] = styleAttributes[key];\n",
              "  }\n",
              "  return element;\n",
              "}\n",
              "\n",
              "// Max number of bytes which will be uploaded at a time.\n",
              "const MAX_PAYLOAD_SIZE = 100 * 1024;\n",
              "\n",
              "function _uploadFiles(inputId, outputId) {\n",
              "  const steps = uploadFilesStep(inputId, outputId);\n",
              "  const outputElement = document.getElementById(outputId);\n",
              "  // Cache steps on the outputElement to make it available for the next call\n",
              "  // to uploadFilesContinue from Python.\n",
              "  outputElement.steps = steps;\n",
              "\n",
              "  return _uploadFilesContinue(outputId);\n",
              "}\n",
              "\n",
              "// This is roughly an async generator (not supported in the browser yet),\n",
              "// where there are multiple asynchronous steps and the Python side is going\n",
              "// to poll for completion of each step.\n",
              "// This uses a Promise to block the python side on completion of each step,\n",
              "// then passes the result of the previous step as the input to the next step.\n",
              "function _uploadFilesContinue(outputId) {\n",
              "  const outputElement = document.getElementById(outputId);\n",
              "  const steps = outputElement.steps;\n",
              "\n",
              "  const next = steps.next(outputElement.lastPromiseValue);\n",
              "  return Promise.resolve(next.value.promise).then((value) => {\n",
              "    // Cache the last promise value to make it available to the next\n",
              "    // step of the generator.\n",
              "    outputElement.lastPromiseValue = value;\n",
              "    return next.value.response;\n",
              "  });\n",
              "}\n",
              "\n",
              "/**\n",
              " * Generator function which is called between each async step of the upload\n",
              " * process.\n",
              " * @param {string} inputId Element ID of the input file picker element.\n",
              " * @param {string} outputId Element ID of the output display.\n",
              " * @return {!Iterable<!Object>} Iterable of next steps.\n",
              " */\n",
              "function* uploadFilesStep(inputId, outputId) {\n",
              "  const inputElement = document.getElementById(inputId);\n",
              "  inputElement.disabled = false;\n",
              "\n",
              "  const outputElement = document.getElementById(outputId);\n",
              "  outputElement.innerHTML = '';\n",
              "\n",
              "  const pickedPromise = new Promise((resolve) => {\n",
              "    inputElement.addEventListener('change', (e) => {\n",
              "      resolve(e.target.files);\n",
              "    });\n",
              "  });\n",
              "\n",
              "  const cancel = document.createElement('button');\n",
              "  inputElement.parentElement.appendChild(cancel);\n",
              "  cancel.textContent = 'Cancel upload';\n",
              "  const cancelPromise = new Promise((resolve) => {\n",
              "    cancel.onclick = () => {\n",
              "      resolve(null);\n",
              "    };\n",
              "  });\n",
              "\n",
              "  // Wait for the user to pick the files.\n",
              "  const files = yield {\n",
              "    promise: Promise.race([pickedPromise, cancelPromise]),\n",
              "    response: {\n",
              "      action: 'starting',\n",
              "    }\n",
              "  };\n",
              "\n",
              "  cancel.remove();\n",
              "\n",
              "  // Disable the input element since further picks are not allowed.\n",
              "  inputElement.disabled = true;\n",
              "\n",
              "  if (!files) {\n",
              "    return {\n",
              "      response: {\n",
              "        action: 'complete',\n",
              "      }\n",
              "    };\n",
              "  }\n",
              "\n",
              "  for (const file of files) {\n",
              "    const li = document.createElement('li');\n",
              "    li.append(span(file.name, {fontWeight: 'bold'}));\n",
              "    li.append(span(\n",
              "        `(${file.type || 'n/a'}) - ${file.size} bytes, ` +\n",
              "        `last modified: ${\n",
              "            file.lastModifiedDate ? file.lastModifiedDate.toLocaleDateString() :\n",
              "                                    'n/a'} - `));\n",
              "    const percent = span('0% done');\n",
              "    li.appendChild(percent);\n",
              "\n",
              "    outputElement.appendChild(li);\n",
              "\n",
              "    const fileDataPromise = new Promise((resolve) => {\n",
              "      const reader = new FileReader();\n",
              "      reader.onload = (e) => {\n",
              "        resolve(e.target.result);\n",
              "      };\n",
              "      reader.readAsArrayBuffer(file);\n",
              "    });\n",
              "    // Wait for the data to be ready.\n",
              "    let fileData = yield {\n",
              "      promise: fileDataPromise,\n",
              "      response: {\n",
              "        action: 'continue',\n",
              "      }\n",
              "    };\n",
              "\n",
              "    // Use a chunked sending to avoid message size limits. See b/62115660.\n",
              "    let position = 0;\n",
              "    do {\n",
              "      const length = Math.min(fileData.byteLength - position, MAX_PAYLOAD_SIZE);\n",
              "      const chunk = new Uint8Array(fileData, position, length);\n",
              "      position += length;\n",
              "\n",
              "      const base64 = btoa(String.fromCharCode.apply(null, chunk));\n",
              "      yield {\n",
              "        response: {\n",
              "          action: 'append',\n",
              "          file: file.name,\n",
              "          data: base64,\n",
              "        },\n",
              "      };\n",
              "\n",
              "      let percentDone = fileData.byteLength === 0 ?\n",
              "          100 :\n",
              "          Math.round((position / fileData.byteLength) * 100);\n",
              "      percent.textContent = `${percentDone}% done`;\n",
              "\n",
              "    } while (position < fileData.byteLength);\n",
              "  }\n",
              "\n",
              "  // All done.\n",
              "  yield {\n",
              "    response: {\n",
              "      action: 'complete',\n",
              "    }\n",
              "  };\n",
              "}\n",
              "\n",
              "scope.google = scope.google || {};\n",
              "scope.google.colab = scope.google.colab || {};\n",
              "scope.google.colab._files = {\n",
              "  _uploadFiles,\n",
              "  _uploadFilesContinue,\n",
              "};\n",
              "})(self);\n",
              "</script> "
            ]
          },
          "metadata": {}
        },
        {
          "output_type": "stream",
          "name": "stdout",
          "text": [
            "Saving kaggle.json to kaggle.json\n"
          ]
        },
        {
          "output_type": "execute_result",
          "data": {
            "text/plain": [
              "{'kaggle.json': b'{\"username\":\"sriramtspe\",\"key\":\"c86345a1a1042d52d56385dbd6f77944\"}'}"
            ]
          },
          "metadata": {},
          "execution_count": 2
        }
      ]
    },
    {
      "cell_type": "code",
      "source": [
        "!mkdir ~/.kaggle\n",
        "!cp kaggle.json ~/.kaggle/"
      ],
      "metadata": {
        "id": "wa2xjFlPqiAi"
      },
      "execution_count": null,
      "outputs": []
    },
    {
      "cell_type": "code",
      "source": [
        "!chmod 600 ~/.kaggle/kaggle.json"
      ],
      "metadata": {
        "id": "adq7KIEPrTBj"
      },
      "execution_count": null,
      "outputs": []
    },
    {
      "cell_type": "code",
      "source": [
        "import kagglehub\n",
        "\n",
        "# Download latest version\n",
        "path = kagglehub.dataset_download(\"hojjatk/mnist-dataset\")\n",
        "\n",
        "print(\"Path to dataset files:\", path)"
      ],
      "metadata": {
        "colab": {
          "base_uri": "https://localhost:8080/"
        },
        "id": "uQTQDRhYrWpk",
        "outputId": "5d6d4dad-b42b-4a26-a463-fedabb3b4ee9"
      },
      "execution_count": null,
      "outputs": [
        {
          "output_type": "stream",
          "name": "stdout",
          "text": [
            "Path to dataset files: /kaggle/input/mnist-dataset\n"
          ]
        }
      ]
    },
    {
      "cell_type": "code",
      "source": [
        "import tensorflow as tf\n",
        "(X_train, y_train), (X_test, y_test) = tf.keras.datasets.mnist.load_data()\n",
        "print(f\"Train shape: {X_train.shape}, Test shape: {X_test.shape}\")"
      ],
      "metadata": {
        "colab": {
          "base_uri": "https://localhost:8080/"
        },
        "id": "bJ2qgj7atOAO",
        "outputId": "29b1fe87-b41d-45ef-cefa-4988b494bfae"
      },
      "execution_count": null,
      "outputs": [
        {
          "output_type": "stream",
          "name": "stdout",
          "text": [
            "Downloading data from https://storage.googleapis.com/tensorflow/tf-keras-datasets/mnist.npz\n",
            "\u001b[1m11490434/11490434\u001b[0m \u001b[32m━━━━━━━━━━━━━━━━━━━━\u001b[0m\u001b[37m\u001b[0m \u001b[1m0s\u001b[0m 0us/step\n",
            "Train shape: (60000, 28, 28), Test shape: (10000, 28, 28)\n"
          ]
        }
      ]
    },
    {
      "cell_type": "code",
      "source": [
        "X_train = X_train / 255.0\n",
        "X_test = X_test / 255.0\n",
        "X_train = X_train.reshape(-1, 28, 28, 1)\n",
        "X_test = X_test.reshape(-1, 28, 28, 1)\n",
        "print(f\"Train reshaped: {X_train.shape}\")"
      ],
      "metadata": {
        "colab": {
          "base_uri": "https://localhost:8080/"
        },
        "id": "7FzFBqKCtwqJ",
        "outputId": "25d23306-63d4-4059-b246-23a5eb5b5b24"
      },
      "execution_count": null,
      "outputs": [
        {
          "output_type": "stream",
          "name": "stdout",
          "text": [
            "Train reshaped: (60000, 28, 28, 1)\n"
          ]
        }
      ]
    },
    {
      "cell_type": "code",
      "source": [
        "import matplotlib.pyplot as plt\n",
        "plt.figure(figsize=(8, 8))\n",
        "for i in range(9):\n",
        "  plt.subplot(3,3,i+1)\n",
        "  plt.imshow(X_train[i].reshape(28, 28), cmap=\"gray\")\n",
        "  plt.title(f\"Label:{y_train[i]}\")\n",
        "  plt.axis(\"off\")\n",
        "plt.show()"
      ],
      "metadata": {
        "colab": {
          "base_uri": "https://localhost:8080/",
          "height": 675
        },
        "id": "6sLvpSGhupKI",
        "outputId": "236001f4-d5ba-4275-ed20-1ef959eb4e0b"
      },
      "execution_count": null,
      "outputs": [
        {
          "output_type": "display_data",
          "data": {
            "text/plain": [
              "<Figure size 800x800 with 9 Axes>"
            ],
            "image/png": "[encoded data removed]"
          },
          "metadata": {}
        }
      ]
    },
    {
      "cell_type": "code",
      "source": [
        "(X_train_c10, y_train_c10), (X_test_c10, y_test_c10) = tf.keras.datasets.cifar10.load_data()\n",
        "X_train_c10 = X_train_c10 / 255.0\n",
        "X_test_c10 = X_test_c10 / 255.0\n",
        "print(f\"CIFAR-10 Train shape: {X_train_c10.shape}\")"
      ],
      "metadata": {
        "id": "sYFg74-rvLdE",
        "colab": {
          "base_uri": "https://localhost:8080/"
        },
        "outputId": "91a1088a-bce6-4f1d-df64-626621e12e57"
      },
      "execution_count": null,
      "outputs": [
        {
          "output_type": "stream",
          "name": "stdout",
          "text": [
            "Downloading data from https://www.cs.toronto.edu/~kriz/cifar-10-python.tar.gz\n",
            "\u001b[1m170498071/170498071\u001b[0m \u001b[32m━━━━━━━━━━━━━━━━━━━━\u001b[0m\u001b[37m\u001b[0m \u001b[1m4s\u001b[0m 0us/step\n",
            "CIFAR-10 Train shape: (50000, 32, 32, 3)\n"
          ]
        }
      ]
    },
    {
      "cell_type": "markdown",
      "source": [
        "# Day 02\n",
        "\n",
        "**What is a Convolutional Neural Network (CNN)?**\n",
        "\n",
        "A Convolutional Neural Network is a type of deep learning model designed to work especially well with images.\n",
        "\n",
        "* It automatically learns important features from images (like edges, shapes, and textures).\n",
        "\n",
        "* Uses convolution layers to scan the image in small parts instead of looking at the whole image at once.\n",
        "\n",
        "* This makes it faster and more accurate for image recognition.\n",
        "\n",
        "Example: In a cat vs dog classifier, the CNN will first detect edges (like whiskers), then shapes (ears), and finally the whole object (cat face).\n",
        "\n",
        "**How does model training work?**\n",
        "\n",
        "Training is how the model learns from data. The process:\n",
        "\n",
        "1. Input Data → Feed images and their labels (e.g., “cat”) into the model.\n",
        "\n",
        "2. Forward Pass → The model makes a prediction (e.g., “dog” with 70% confidence).\n",
        "\n",
        "3. Loss Calculation → Compare the prediction with the correct label and measure the error.\n",
        "\n",
        "4. Backward Pass (Backpropagation) → Adjust the weights in the model to reduce the error.\n",
        "\n",
        "5. Repeat for Many Epochs → Each pass over the training data improves accuracy.\n",
        "\n",
        "**How do we use Dropout?**\n",
        "\n",
        "Dropout is a regularization technique used during training to prevent overfitting (when the model memorizes the training data but fails on new data).\n",
        "\n",
        "* At each training step, Dropout randomly turns off some neurons in the network.\n",
        "\n",
        "* This forces the model to learn more general features.\n",
        "\n",
        "Example: If Dropout rate is 0.5, half of the neurons are ignored in each training round.\n",
        "\n",
        "\n",
        "\n",
        "**How to evaluate a model?**\n",
        "\n",
        "After training, we check the model’s performance on new data (test set). Common steps:\n",
        "\n",
        "* Accuracy → % of correct predictions.\n",
        "\n",
        "* Confusion Matrix → Shows correct and incorrect predictions for each class.\n",
        "\n",
        "* Precision & Recall → For more detailed evaluation.\n",
        "\n",
        "* Loss curves → See if the model is improving or overfitting."
      ],
      "metadata": {
        "id": "nwWE2nQovGT4"
      }
    },
    {
      "cell_type": "code",
      "source": [
        "from typing import Optional\n",
        "from tensorflow.keras.models import Sequential\n",
        "from tensorflow.keras.layers import Conv2D,MaxPooling2D,Dense,Flatten\n",
        "\n",
        "model = Sequential([\n",
        "    Conv2D(32, (3, 3), activation=\"relu\", input_shape=(28, 28, 1)),\n",
        "    MaxPooling2D(2, 2),\n",
        "    Conv2D(64, (3, 3), activation=\"relu\"),\n",
        "    MaxPooling2D(2, 2),\n",
        "    Flatten(),\n",
        "    Dense(128, activation=\"relu\"),\n",
        "    Dense(10, activation=\"softmax\")\n",
        "])\n",
        "\n",
        "model.compile(optimizer=\"adam\",loss=\"sparse_categorical_crossentropy\",metrics=[\"accuracy\"])\n",
        "model.summary()"
      ],
      "metadata": {
        "colab": {
          "base_uri": "https://localhost:8080/",
          "height": 429
        },
        "id": "5j0be8zxva7_",
        "outputId": "d235da3c-ae07-4c6b-a317-399617d04705"
      },
      "execution_count": null,
      "outputs": [
        {
          "output_type": "stream",
          "name": "stderr",
          "text": [
            "/usr/local/lib/python3.11/dist-packages/keras/src/layers/convolutional/base_conv.py:113: UserWarning: Do not pass an `input_shape`/`input_dim` argument to a layer. When using Sequential models, prefer using an `Input(shape)` object as the first layer in the model instead.\n",
            "  super().__init__(activity_regularizer=activity_regularizer, **kwargs)\n"
          ]
        },
        {
          "output_type": "display_data",
          "data": {
            "text/plain": [
              "\u001b[1mModel: \"sequential\"\u001b[0m\n"
            ],
            "text/html": [
              "<pre style=\"white-space:pre;overflow-x:auto;line-height:normal;font-family:Menlo,'DejaVu Sans Mono',consolas,'Courier New',monospace\"><span style=\"font-weight: bold\">Model: \"sequential\"</span>\n",
              "</pre>\n"
            ]
          },
          "metadata": {}
        },
        {
          "output_type": "display_data",
          "data": {
            "text/plain": [
              "┏━━━━━━━━━━━━━━━━━━━━━━━━━━━━━━━━━┳━━━━━━━━━━━━━━━━━━━━━━━━┳━━━━━━━━━━━━━━━┓\n",
              "┃\u001b[1m \u001b[0m\u001b[1mLayer (type)                   \u001b[0m\u001b[1m \u001b[0m┃\u001b[1m \u001b[0m\u001b[1mOutput Shape          \u001b[0m\u001b[1m \u001b[0m┃\u001b[1m \u001b[0m\u001b[1m      Param #\u001b[0m\u001b[1m \u001b[0m┃\n",
              "┡━━━━━━━━━━━━━━━━━━━━━━━━━━━━━━━━━╇━━━━━━━━━━━━━━━━━━━━━━━━╇━━━━━━━━━━━━━━━┩\n",
              "│ conv2d (\u001b[38;5;33mConv2D\u001b[0m)                 │ (\u001b[38;5;45mNone\u001b[0m, \u001b[38;5;34m26\u001b[0m, \u001b[38;5;34m26\u001b[0m, \u001b[38;5;34m32\u001b[0m)     │           \u001b[38;5;34m320\u001b[0m │\n",
              "├─────────────────────────────────┼────────────────────────┼───────────────┤\n",
              "│ max_pooling2d (\u001b[38;5;33mMaxPooling2D\u001b[0m)    │ (\u001b[38;5;45mNone\u001b[0m, \u001b[38;5;34m13\u001b[0m, \u001b[38;5;34m13\u001b[0m, \u001b[38;5;34m32\u001b[0m)     │             \u001b[38;5;34m0\u001b[0m │\n",
              "├─────────────────────────────────┼────────────────────────┼───────────────┤\n",
              "│ conv2d_1 (\u001b[38;5;33mConv2D\u001b[0m)               │ (\u001b[38;5;45mNone\u001b[0m, \u001b[38;5;34m11\u001b[0m, \u001b[38;5;34m11\u001b[0m, \u001b[38;5;34m64\u001b[0m)     │        \u001b[38;5;34m18,496\u001b[0m │\n",
              "├─────────────────────────────────┼────────────────────────┼───────────────┤\n",
              "│ max_pooling2d_1 (\u001b[38;5;33mMaxPooling2D\u001b[0m)  │ (\u001b[38;5;45mNone\u001b[0m, \u001b[38;5;34m5\u001b[0m, \u001b[38;5;34m5\u001b[0m, \u001b[38;5;34m64\u001b[0m)       │             \u001b[38;5;34m0\u001b[0m │\n",
              "├─────────────────────────────────┼────────────────────────┼───────────────┤\n",
              "│ flatten (\u001b[38;5;33mFlatten\u001b[0m)               │ (\u001b[38;5;45mNone\u001b[0m, \u001b[38;5;34m1600\u001b[0m)           │             \u001b[38;5;34m0\u001b[0m │\n",
              "├─────────────────────────────────┼────────────────────────┼───────────────┤\n",
              "│ dense (\u001b[38;5;33mDense\u001b[0m)                   │ (\u001b[38;5;45mNone\u001b[0m, \u001b[38;5;34m128\u001b[0m)            │       \u001b[38;5;34m204,928\u001b[0m │\n",
              "├─────────────────────────────────┼────────────────────────┼───────────────┤\n",
              "│ dense_1 (\u001b[38;5;33mDense\u001b[0m)                 │ (\u001b[38;5;45mNone\u001b[0m, \u001b[38;5;34m10\u001b[0m)             │         \u001b[38;5;34m1,290\u001b[0m │\n",
              "└─────────────────────────────────┴────────────────────────┴───────────────┘\n"
            ],
            "text/html": [
              "<pre style=\"white-space:pre;overflow-x:auto;line-height:normal;font-family:Menlo,'DejaVu Sans Mono',consolas,'Courier New',monospace\">┏━━━━━━━━━━━━━━━━━━━━━━━━━━━━━━━━━┳━━━━━━━━━━━━━━━━━━━━━━━━┳━━━━━━━━━━━━━━━┓\n",
              "┃<span style=\"font-weight: bold\"> Layer (type)                    </span>┃<span style=\"font-weight: bold\"> Output Shape           </span>┃<span style=\"font-weight: bold\">       Param # </span>┃\n",
              "┡━━━━━━━━━━━━━━━━━━━━━━━━━━━━━━━━━╇━━━━━━━━━━━━━━━━━━━━━━━━╇━━━━━━━━━━━━━━━┩\n",
              "│ conv2d (<span style=\"color: #0087ff; text-decoration-color: #0087ff\">Conv2D</span>)                 │ (<span style=\"color: #00d7ff; text-decoration-color: #00d7ff\">None</span>, <span style=\"color: #00af00; text-decoration-color: #00af00\">26</span>, <span style=\"color: #00af00; text-decoration-color: #00af00\">26</span>, <span style=\"color: #00af00; text-decoration-color: #00af00\">32</span>)     │           <span style=\"color: #00af00; text-decoration-color: #00af00\">320</span> │\n",
              "├─────────────────────────────────┼────────────────────────┼───────────────┤\n",
              "│ max_pooling2d (<span style=\"color: #0087ff; text-decoration-color: #0087ff\">MaxPooling2D</span>)    │ (<span style=\"color: #00d7ff; text-decoration-color: #00d7ff\">None</span>, <span style=\"color: #00af00; text-decoration-color: #00af00\">13</span>, <span style=\"color: #00af00; text-decoration-color: #00af00\">13</span>, <span style=\"color: #00af00; text-decoration-color: #00af00\">32</span>)     │             <span style=\"color: #00af00; text-decoration-color: #00af00\">0</span> │\n",
              "├─────────────────────────────────┼────────────────────────┼───────────────┤\n",
              "│ conv2d_1 (<span style=\"color: #0087ff; text-decoration-color: #0087ff\">Conv2D</span>)               │ (<span style=\"color: #00d7ff; text-decoration-color: #00d7ff\">None</span>, <span style=\"color: #00af00; text-decoration-color: #00af00\">11</span>, <span style=\"color: #00af00; text-decoration-color: #00af00\">11</span>, <span style=\"color: #00af00; text-decoration-color: #00af00\">64</span>)     │        <span style=\"color: #00af00; text-decoration-color: #00af00\">18,496</span> │\n",
              "├─────────────────────────────────┼────────────────────────┼───────────────┤\n",
              "│ max_pooling2d_1 (<span style=\"color: #0087ff; text-decoration-color: #0087ff\">MaxPooling2D</span>)  │ (<span style=\"color: #00d7ff; text-decoration-color: #00d7ff\">None</span>, <span style=\"color: #00af00; text-decoration-color: #00af00\">5</span>, <span style=\"color: #00af00; text-decoration-color: #00af00\">5</span>, <span style=\"color: #00af00; text-decoration-color: #00af00\">64</span>)       │             <span style=\"color: #00af00; text-decoration-color: #00af00\">0</span> │\n",
              "├─────────────────────────────────┼────────────────────────┼───────────────┤\n",
              "│ flatten (<span style=\"color: #0087ff; text-decoration-color: #0087ff\">Flatten</span>)               │ (<span style=\"color: #00d7ff; text-decoration-color: #00d7ff\">None</span>, <span style=\"color: #00af00; text-decoration-color: #00af00\">1600</span>)           │             <span style=\"color: #00af00; text-decoration-color: #00af00\">0</span> │\n",
              "├─────────────────────────────────┼────────────────────────┼───────────────┤\n",
              "│ dense (<span style=\"color: #0087ff; text-decoration-color: #0087ff\">Dense</span>)                   │ (<span style=\"color: #00d7ff; text-decoration-color: #00d7ff\">None</span>, <span style=\"color: #00af00; text-decoration-color: #00af00\">128</span>)            │       <span style=\"color: #00af00; text-decoration-color: #00af00\">204,928</span> │\n",
              "├─────────────────────────────────┼────────────────────────┼───────────────┤\n",
              "│ dense_1 (<span style=\"color: #0087ff; text-decoration-color: #0087ff\">Dense</span>)                 │ (<span style=\"color: #00d7ff; text-decoration-color: #00d7ff\">None</span>, <span style=\"color: #00af00; text-decoration-color: #00af00\">10</span>)             │         <span style=\"color: #00af00; text-decoration-color: #00af00\">1,290</span> │\n",
              "└─────────────────────────────────┴────────────────────────┴───────────────┘\n",
              "</pre>\n"
            ]
          },
          "metadata": {}
        },
        {
          "output_type": "display_data",
          "data": {
            "text/plain": [
              "\u001b[1m Total params: \u001b[0m\u001b[38;5;34m225,034\u001b[0m (879.04 KB)\n"
            ],
            "text/html": [
              "<pre style=\"white-space:pre;overflow-x:auto;line-height:normal;font-family:Menlo,'DejaVu Sans Mono',consolas,'Courier New',monospace\"><span style=\"font-weight: bold\"> Total params: </span><span style=\"color: #00af00; text-decoration-color: #00af00\">225,034</span> (879.04 KB)\n",
              "</pre>\n"
            ]
          },
          "metadata": {}
        },
        {
          "output_type": "display_data",
          "data": {
            "text/plain": [
              "\u001b[1m Trainable params: \u001b[0m\u001b[38;5;34m225,034\u001b[0m (879.04 KB)\n"
            ],
            "text/html": [
              "<pre style=\"white-space:pre;overflow-x:auto;line-height:normal;font-family:Menlo,'DejaVu Sans Mono',consolas,'Courier New',monospace\"><span style=\"font-weight: bold\"> Trainable params: </span><span style=\"color: #00af00; text-decoration-color: #00af00\">225,034</span> (879.04 KB)\n",
              "</pre>\n"
            ]
          },
          "metadata": {}
        },
        {
          "output_type": "display_data",
          "data": {
            "text/plain": [
              "\u001b[1m Non-trainable params: \u001b[0m\u001b[38;5;34m0\u001b[0m (0.00 B)\n"
            ],
            "text/html": [
              "<pre style=\"white-space:pre;overflow-x:auto;line-height:normal;font-family:Menlo,'DejaVu Sans Mono',consolas,'Courier New',monospace\"><span style=\"font-weight: bold\"> Non-trainable params: </span><span style=\"color: #00af00; text-decoration-color: #00af00\">0</span> (0.00 B)\n",
              "</pre>\n"
            ]
          },
          "metadata": {}
        }
      ]
    },
    {
      "cell_type": "code",
      "source": [
        "history = model.fit(X_train,y_train,epochs=5,batch_size=32,validation_split=0.2)"
      ],
      "metadata": {
        "colab": {
          "base_uri": "https://localhost:8080/"
        },
        "id": "6CqBaw7SwcWy",
        "outputId": "8a1a0de3-d2f1-492e-d412-6c57154adc15"
      },
      "execution_count": null,
      "outputs": [
        {
          "output_type": "stream",
          "name": "stdout",
          "text": [
            "Epoch 1/5\n",
            "\u001b[1m1500/1500\u001b[0m \u001b[32m━━━━━━━━━━━━━━━━━━━━\u001b[0m\u001b[37m\u001b[0m \u001b[1m46s\u001b[0m 30ms/step - accuracy: 0.8959 - loss: 0.3373 - val_accuracy: 0.9818 - val_loss: 0.0626\n",
            "Epoch 2/5\n",
            "\u001b[1m1500/1500\u001b[0m \u001b[32m━━━━━━━━━━━━━━━━━━━━\u001b[0m\u001b[37m\u001b[0m \u001b[1m45s\u001b[0m 30ms/step - accuracy: 0.9843 - loss: 0.0497 - val_accuracy: 0.9844 - val_loss: 0.0528\n",
            "Epoch 3/5\n",
            "\u001b[1m1500/1500\u001b[0m \u001b[32m━━━━━━━━━━━━━━━━━━━━\u001b[0m\u001b[37m\u001b[0m \u001b[1m81s\u001b[0m 29ms/step - accuracy: 0.9902 - loss: 0.0297 - val_accuracy: 0.9878 - val_loss: 0.0414\n",
            "Epoch 4/5\n",
            "\u001b[1m1500/1500\u001b[0m \u001b[32m━━━━━━━━━━━━━━━━━━━━\u001b[0m\u001b[37m\u001b[0m \u001b[1m41s\u001b[0m 28ms/step - accuracy: 0.9926 - loss: 0.0221 - val_accuracy: 0.9879 - val_loss: 0.0442\n",
            "Epoch 5/5\n",
            "\u001b[1m1500/1500\u001b[0m \u001b[32m━━━━━━━━━━━━━━━━━━━━\u001b[0m\u001b[37m\u001b[0m \u001b[1m84s\u001b[0m 29ms/step - accuracy: 0.9950 - loss: 0.0147 - val_accuracy: 0.9901 - val_loss: 0.0366\n"
          ]
        }
      ]
    },
    {
      "cell_type": "code",
      "source": [
        "plt.plot(history.history[\"accuracy\"],label='Train')\n",
        "plt.plot(history.history[\"val_accuracy\"],label='Validation')\n",
        "plt.xlabel(\"Epoch\")\n",
        "plt.ylabel(\"Accuracy\")\n",
        "plt.legend()\n",
        "plt.title(\"Model Accuracy\")\n",
        "plt.show()\n"
      ],
      "metadata": {
        "colab": {
          "base_uri": "https://localhost:8080/",
          "height": 472
        },
        "id": "eaUBtlrj3dkW",
        "outputId": "835663ab-4adb-463a-a8b7-fd7e7550b8ad"
      },
      "execution_count": null,
      "outputs": [
        {
          "output_type": "display_data",
          "data": {
            "text/plain": [
              "<Figure size 640x480 with 1 Axes>"
            ],
            "image/png": "[encoded data removed]"
          },
          "metadata": {}
        }
      ]
    },
    {
      "cell_type": "markdown",
      "source": [
        "# Day 03\n",
        "\n",
        "**Why deeper CNNs?**\n",
        "\n",
        "A deeper CNN means the network has more layers (convolution layers, pooling layers, etc.).\n",
        "\n",
        "* **Shallow CNN** → Can learn only simple features like edges or colors.\n",
        "\n",
        "* **Deeper CNN** → Can learn complex features like shapes, textures, and even object parts.\n",
        "\n",
        "Example:\n",
        "\n",
        "* 1st layers → Detect lines and edges.\n",
        "\n",
        "* Middle layers → Detect shapes (eyes, nose).\n",
        "\n",
        "* Last layers → Detect complete objects (cat face).\n",
        "\n",
        "The deeper the network, the better it can understand high-level details in images.\n",
        "However, deeper CNNs need more data and more computing power to avoid overfitting.\n",
        "\n",
        "**What is Data Augmentation?**\n",
        "\n",
        "Data augmentation is creating new training images from existing ones by applying transformations.\n",
        "Purpose: To make the model more robust and reduce overfitting.\n",
        "\n",
        "Examples of transformations:\n",
        "\n",
        "* Rotate the image\n",
        "\n",
        "* Flip horizontally or vertically\n",
        "\n",
        "* Change brightness or contrast\n",
        "\n",
        "* Zoom in or crop\n",
        "\n",
        "If you only have 1,000 images, augmentation can generate thousands of slightly different versions, making the model learn better.\n",
        "\n",
        "\n",
        "**What is Advanced Evaluation Metrics?**\n",
        "\n",
        "Beyond accuracy, some problems need more detailed evaluation. Examples:\n",
        "\n",
        "* **Precision** → Of all predicted positives, how many are correct?\n",
        "\n",
        "* **Recall** → Of all actual positives, how many were found?\n",
        "\n",
        "* **F1 Score** → Harmonic mean of precision and recall (good balance).\n",
        "\n",
        "* **AUC-ROC** → Measures how well the model separates classes across thresholds.\n",
        "\n",
        "* **IoU (Intersection over Union)** → For object detection, how much predicted area overlaps with actual object.\n",
        "\n",
        "These metrics are important when:\n",
        "\n",
        "* Data is **imbalanced** (e.g., 95% cats, 5% dogs)\n",
        "\n",
        "* Errors have different costs (e.g., medical diagnosis)"
      ],
      "metadata": {
        "id": "qVNly4PxCa0r"
      }
    },
    {
      "cell_type": "code",
      "source": [
        "test_loss,test_acc=model.evaluate(X_test,y_test)\n",
        "print(f\"Test Accuracy: {test_acc:.4f}\")\n",
        "y_pred = model.predict(X_test).argmax(axis=1)"
      ],
      "metadata": {
        "colab": {
          "base_uri": "https://localhost:8080/"
        },
        "id": "NQwSeyQK9Eb2",
        "outputId": "8d74c4b0-02de-4d8b-8a98-16b5192b5de1"
      },
      "execution_count": null,
      "outputs": [
        {
          "output_type": "stream",
          "name": "stdout",
          "text": [
            "\u001b[1m313/313\u001b[0m \u001b[32m━━━━━━━━━━━━━━━━━━━━\u001b[0m\u001b[37m\u001b[0m \u001b[1m4s\u001b[0m 11ms/step - accuracy: 0.9885 - loss: 0.0402\n",
            "Test Accuracy: 0.9907\n",
            "\u001b[1m313/313\u001b[0m \u001b[32m━━━━━━━━━━━━━━━━━━━━\u001b[0m\u001b[37m\u001b[0m \u001b[1m2s\u001b[0m 7ms/step\n"
          ]
        }
      ]
    },
    {
      "cell_type": "code",
      "source": [
        "from tensorflow.keras.preprocessing.image import ImageDataGenerator\n",
        "\n",
        "datagen = ImageDataGenerator(\n",
        "    rotation_range=15,\n",
        "    width_shift_range=0.1,\n",
        "    height_shift_range=0.1,\n",
        "    horizontal_flip=True,\n",
        ")\n",
        "datagen.fit(X_train_c10)"
      ],
      "metadata": {
        "id": "DyK4ymaw4iMw"
      },
      "execution_count": null,
      "outputs": []
    },
    {
      "cell_type": "code",
      "source": [
        "from tensorflow.keras.layers import BatchNormalization, Dropout, Conv2D,MaxPooling2D,Dense,Flatten\n",
        "from tensorflow.keras.models import Sequential\n",
        "\n",
        "model=Sequential([\n",
        "    Conv2D(32,(3,3),activation=\"relu\",input_shape=(32,32,3)),\n",
        "    BatchNormalization(),\n",
        "    MaxPooling2D(2,2),\n",
        "    Conv2D(64,(3,3),activation=\"relu\"),\n",
        "    BatchNormalization(),\n",
        "    MaxPooling2D(2,2),\n",
        "    Conv2D(128,(3,3),activation=\"relu\"),\n",
        "    BatchNormalization(),\n",
        "    MaxPooling2D(2,2),\n",
        "    Flatten(),\n",
        "    Dense(256,activation=\"relu\"),\n",
        "    Dropout(0.5),\n",
        "    Dense(10,activation=\"softmax\")\n",
        "])\n",
        "\n",
        "model.compile(optimizer=\"adam\",loss=\"sparse_categorical_crossentropy\",metrics=[\"accuracy\"])\n",
        "model.fit(datagen.flow(X_train_c10,y_train_c10,batch_size=32),epochs=10,validation_data = (X_test_c10,y_test_c10))"
      ],
      "metadata": {
        "colab": {
          "base_uri": "https://localhost:8080/"
        },
        "id": "zOl48WzN7HkQ",
        "outputId": "55ec2ed3-15e2-41a6-f930-ac7a91492de2"
      },
      "execution_count": null,
      "outputs": [
        {
          "output_type": "stream",
          "name": "stdout",
          "text": [
            "Epoch 1/10\n"
          ]
        },
        {
          "output_type": "stream",
          "name": "stderr",
          "text": [
            "/usr/local/lib/python3.11/dist-packages/keras/src/trainers/data_adapters/py_dataset_adapter.py:121: UserWarning: Your `PyDataset` class should call `super().__init__(**kwargs)` in its constructor. `**kwargs` can include `workers`, `use_multiprocessing`, `max_queue_size`. Do not pass these arguments to `fit()`, as they will be ignored.\n",
            "  self._warn_if_super_not_called()\n"
          ]
        },
        {
          "output_type": "stream",
          "name": "stdout",
          "text": [
            "\u001b[1m1563/1563\u001b[0m \u001b[32m━━━━━━━━━━━━━━━━━━━━\u001b[0m\u001b[37m\u001b[0m \u001b[1m126s\u001b[0m 79ms/step - accuracy: 0.3586 - loss: 1.8686 - val_accuracy: 0.5092 - val_loss: 1.3643\n",
            "Epoch 2/10\n",
            "\u001b[1m1563/1563\u001b[0m \u001b[32m━━━━━━━━━━━━━━━━━━━━\u001b[0m\u001b[37m\u001b[0m \u001b[1m129s\u001b[0m 83ms/step - accuracy: 0.5129 - loss: 1.3753 - val_accuracy: 0.5830 - val_loss: 1.2143\n",
            "Epoch 3/10\n",
            "\u001b[1m1563/1563\u001b[0m \u001b[32m━━━━━━━━━━━━━━━━━━━━\u001b[0m\u001b[37m\u001b[0m \u001b[1m124s\u001b[0m 80ms/step - accuracy: 0.5672 - loss: 1.2236 - val_accuracy: 0.5558 - val_loss: 1.3231\n",
            "Epoch 4/10\n",
            "\u001b[1m1563/1563\u001b[0m \u001b[32m━━━━━━━━━━━━━━━━━━━━\u001b[0m\u001b[37m\u001b[0m \u001b[1m125s\u001b[0m 80ms/step - accuracy: 0.6027 - loss: 1.1377 - val_accuracy: 0.6230 - val_loss: 1.1329\n",
            "Epoch 5/10\n",
            "\u001b[1m1563/1563\u001b[0m \u001b[32m━━━━━━━━━━━━━━━━━━━━\u001b[0m\u001b[37m\u001b[0m \u001b[1m124s\u001b[0m 79ms/step - accuracy: 0.6286 - loss: 1.0636 - val_accuracy: 0.6973 - val_loss: 0.8807\n",
            "Epoch 6/10\n",
            "\u001b[1m1563/1563\u001b[0m \u001b[32m━━━━━━━━━━━━━━━━━━━━\u001b[0m\u001b[37m\u001b[0m \u001b[1m129s\u001b[0m 82ms/step - accuracy: 0.6441 - loss: 1.0147 - val_accuracy: 0.6527 - val_loss: 1.0490\n",
            "Epoch 7/10\n",
            "\u001b[1m1563/1563\u001b[0m \u001b[32m━━━━━━━━━━━━━━━━━━━━\u001b[0m\u001b[37m\u001b[0m \u001b[1m125s\u001b[0m 80ms/step - accuracy: 0.6634 - loss: 0.9684 - val_accuracy: 0.7193 - val_loss: 0.8129\n",
            "Epoch 8/10\n",
            "\u001b[1m1563/1563\u001b[0m \u001b[32m━━━━━━━━━━━━━━━━━━━━\u001b[0m\u001b[37m\u001b[0m \u001b[1m132s\u001b[0m 84ms/step - accuracy: 0.6756 - loss: 0.9440 - val_accuracy: 0.6909 - val_loss: 0.9223\n",
            "Epoch 9/10\n",
            "\u001b[1m1563/1563\u001b[0m \u001b[32m━━━━━━━━━━━━━━━━━━━━\u001b[0m\u001b[37m\u001b[0m \u001b[1m125s\u001b[0m 80ms/step - accuracy: 0.6853 - loss: 0.9103 - val_accuracy: 0.7124 - val_loss: 0.8531\n",
            "Epoch 10/10\n",
            "\u001b[1m1563/1563\u001b[0m \u001b[32m━━━━━━━━━━━━━━━━━━━━\u001b[0m\u001b[37m\u001b[0m \u001b[1m126s\u001b[0m 80ms/step - accuracy: 0.6939 - loss: 0.8921 - val_accuracy: 0.7384 - val_loss: 0.7731\n"
          ]
        },
        {
          "output_type": "execute_result",
          "data": {
            "text/plain": [
              "<keras.src.callbacks.history.History at 0x7b46af636710>"
            ]
          },
          "metadata": {},
          "execution_count": 15
        }
      ]
    },
    {
      "cell_type": "code",
      "source": [
        "from sklearn.metrics import confusion_matrix, classification_report\n",
        "import numpy as np\n",
        "\n",
        "y_pred_c10=model.predict(X_test_c10).argmax(axis=1)\n",
        "cm=confusion_matrix(y_test_c10,y_pred_c10)\n",
        "print(classification_report(y_test_c10,y_pred_c10))\n",
        "\n",
        "import seaborn as sns\n",
        "plt.figure(figsize=(8,6))\n",
        "sns.heatmap(cm,annot=True,fmt=\"d\",cmap=\"Blues\")\n",
        "plt.xlabel(\"Predicted\")\n",
        "plt.ylabel(\"True\")\n",
        "plt.show()"
      ],
      "metadata": {
        "colab": {
          "base_uri": "https://localhost:8080/",
          "height": 854
        },
        "id": "-uXd1RW_-M7u",
        "outputId": "48591ba5-e6d3-4917-c341-f3080e91c376"
      },
      "execution_count": null,
      "outputs": [
        {
          "output_type": "stream",
          "name": "stdout",
          "text": [
            "\u001b[1m313/313\u001b[0m \u001b[32m━━━━━━━━━━━━━━━━━━━━\u001b[0m\u001b[37m\u001b[0m \u001b[1m5s\u001b[0m 14ms/step\n",
            "              precision    recall  f1-score   support\n",
            "\n",
            "           0       0.62      0.88      0.73      1000\n",
            "           1       0.81      0.92      0.86      1000\n",
            "           2       0.73      0.59      0.66      1000\n",
            "           3       0.68      0.42      0.52      1000\n",
            "           4       0.75      0.71      0.73      1000\n",
            "           5       0.71      0.60      0.65      1000\n",
            "           6       0.69      0.88      0.78      1000\n",
            "           7       0.85      0.75      0.80      1000\n",
            "           8       0.87      0.75      0.81      1000\n",
            "           9       0.72      0.88      0.79      1000\n",
            "\n",
            "    accuracy                           0.74     10000\n",
            "   macro avg       0.74      0.74      0.73     10000\n",
            "weighted avg       0.74      0.74      0.73     10000\n",
            "\n"
          ]
        },
        {
          "output_type": "display_data",
          "data": {
            "text/plain": [
              "<Figure size 800x600 with 2 Axes>"
            ],
            "image/png": "[encoded data removed]"
          },
          "metadata": {}
        }
      ]
    },
    {
      "cell_type": "markdown",
      "source": [
        "# Day 4\n",
        "\n",
        "**What are pre-trained model?**\n",
        "\n",
        "A pre-trained model is a model that has already been trained on a large dataset by someone else, so you don’t have to start from scratch.\n",
        "\n",
        "* Example: A CNN trained on ImageNet (millions of images).\n",
        "\n",
        "* You can reuse it for your own problem, often with just small adjustments.\n",
        "\n",
        "Why use them?\n",
        "\n",
        "Save time and computing power\n",
        "\n",
        "Often give better accuracy with less data\n",
        "\n",
        "Examples:\n",
        "ResNet, VGG16, MobileNet, EfficientNet.\n",
        "          **MobileNetV2,ResNet,VGG,ImageNet**\n",
        "\n",
        "\n",
        "**What is Transfer learning?**\n",
        "\n",
        "Transfer learning is the process of taking a pre-trained model and adapting it to your own task.\n",
        "\n",
        "* Keep the learned features from the original training (edges, shapes, textures).\n",
        "\n",
        "* Replace the last layers with new ones for your problem.\n",
        "\n",
        "Example:\n",
        "\n",
        "* Pre-trained model learned to recognize 1,000 classes (ImageNet).\n",
        "\n",
        "* You change the output layer to predict only 3 classes: Cat, Dog, Rabbit.\n",
        "\n",
        "**How to Fine Tune and Optimize?**\n",
        "\n",
        "Fine-tuning means slightly re-training the pre-trained model’s layers on your dataset to improve performance.\n",
        "\n",
        "Steps:\n",
        "\n",
        "1. **Freeze early layers** (keep their weights unchanged).\n",
        "\n",
        "2. **Train only new layers** you added for your task.\n",
        "\n",
        "3. Gradually unfreeze some earlier layers and train them at a **low learning rate**.\n",
        "\n",
        "Optimization tips:\n",
        "\n",
        "* Use the right optimizer (Adam, SGD)\n",
        "\n",
        "* Use learning rate scheduling (reduce learning rate over time)\n",
        "\n",
        "* Use regularization (Dropout, weight decay)\n",
        "\n",
        "Monitor validation loss to avoid overfitting\n",
        "\n",
        "\n",
        "\n",
        "\n",
        "**How to Deploy a Model?**\n",
        "\n",
        "Deployment means making your trained model available for real-world use.\n",
        "\n",
        "Steps:\n",
        "\n",
        "1. Save the model (e.g., .h5, .pt, or ONNX format).\n",
        "\n",
        "2. Choose where to deploy:\n",
        "\n",
        "  * Web app (Flask, FastAPI, Streamlit)\n",
        "\n",
        "  * Mobile app (TensorFlow Lite, Core ML)\n",
        "\n",
        "  * Cloud service (AWS, Azure, GCP)\n",
        "\n",
        "3. Set up an API so other programs can send data and get predictions.\n",
        "\n",
        "4. Monitor performance in real-time and retrain if accuracy drops.\n",
        "\n"
      ],
      "metadata": {
        "id": "6IMjgWfxCUCP"
      }
    },
    {
      "cell_type": "code",
      "source": [
        "!kaggle datasets download -d tongpython/cat-and-dog"
      ],
      "metadata": {
        "colab": {
          "base_uri": "https://localhost:8080/"
        },
        "id": "qxtz_1DdC1S2",
        "outputId": "9ee2274e-5072-4380-a3c4-f74dcc8f9957"
      },
      "execution_count": null,
      "outputs": [
        {
          "output_type": "stream",
          "name": "stdout",
          "text": [
            "Dataset URL: https://www.kaggle.com/datasets/tongpython/cat-and-dog\n",
            "License(s): CC0-1.0\n",
            "Downloading cat-and-dog.zip to /content\n",
            " 94% 205M/218M [00:00<00:00, 315MB/s] \n",
            "100% 218M/218M [00:00<00:00, 330MB/s]\n"
          ]
        }
      ]
    },
    {
      "cell_type": "code",
      "source": [
        "import zipfile\n",
        "with zipfile.ZipFile(\"/content/cat-and-dog.zip\",\"r\") as zip_ref:\n",
        "  zip_ref.extractall(\"/content/dogs-vs-cats\")"
      ],
      "metadata": {
        "id": "4b4X67tyJQZd"
      },
      "execution_count": null,
      "outputs": []
    },
    {
      "cell_type": "code",
      "source": [
        "from tensorflow.keras.preprocessing.image import ImageDataGenerator\n",
        "datagen = ImageDataGenerator(rescale=1./255,validation_split=0.2)\n",
        "train_generator=datagen.flow_from_directory(\n",
        "    \"/content/dogs-vs-cats\",\n",
        "    target_size=(224,224),\n",
        "    batch_size=32,\n",
        "    class_mode=\"binary\",\n",
        "    subset=\"training\"\n",
        ")\n",
        "val_generator=datagen.flow_from_directory(\n",
        "    \"/content/dogs-vs-cats\",\n",
        "    target_size=(224,224),\n",
        "    batch_size=32,\n",
        "    class_mode=\"binary\",\n",
        "    subset=\"validation\"\n",
        ")"
      ],
      "metadata": {
        "colab": {
          "base_uri": "https://localhost:8080/"
        },
        "id": "BmfayPowKgsr",
        "outputId": "48cb34fa-0b6c-4944-fec0-52ec61f3bd0b"
      },
      "execution_count": null,
      "outputs": [
        {
          "output_type": "stream",
          "name": "stdout",
          "text": [
            "Found 8023 images belonging to 2 classes.\n",
            "Found 2005 images belonging to 2 classes.\n"
          ]
        }
      ]
    },
    {
      "cell_type": "code",
      "source": [
        "from tensorflow.keras.applications import MobileNetV2\n",
        "from tensorflow.keras.models import Sequential\n",
        "from tensorflow.keras.layers import Dense, GlobalAveragePooling2D\n",
        "\n",
        "base_model = MobileNetV2(weights='imagenet', include_top=False, input_shape=(224, 224, 3))\n",
        "\n",
        "base_model.trainable = False\n",
        "\n",
        "model = Sequential([\n",
        "    base_model,\n",
        "    GlobalAveragePooling2D(),\n",
        "    Dense(1, activation='relu'),\n",
        "    Dense(1, activation='sigmoid')\n",
        "])\n",
        "\n",
        "model.compile(optimizer='adam', loss='binary_crossentropy', metrics=['accuracy'])\n",
        "model.fit(train_generator, epochs=5, validation_data=val_generator)"
      ],
      "metadata": {
        "colab": {
          "base_uri": "https://localhost:8080/"
        },
        "id": "NLuZoFMHMYb4",
        "outputId": "f7d297ad-d7c4-44a3-e46e-8f3e01ba11a3"
      },
      "execution_count": null,
      "outputs": [
        {
          "metadata": {
            "tags": null
          },
          "name": "stdout",
          "output_type": "stream",
          "text": [
            "Downloading data from https://storage.googleapis.com/tensorflow/keras-applications/mobilenet_v2/mobilenet_v2_weights_tf_dim_ordering_tf_kernels_1.0_224_no_top.h5\n",
            "\u001b[1m9406464/9406464\u001b[0m \u001b[32m━━━━━━━━━━━━━━━━━━━━\u001b[0m\u001b[37m\u001b[0m \u001b[1m0s\u001b[0m 0us/step\n",
            "Epoch 1/5\n"
          ]
        },
        {
          "metadata": {
            "tags": null
          },
          "name": "stderr",
          "output_type": "stream",
          "text": [
            "/usr/local/lib/python3.11/dist-packages/keras/src/trainers/data_adapters/py_dataset_adapter.py:121: UserWarning: Your `PyDataset` class should call `super().__init__(**kwargs)` in its constructor. `**kwargs` can include `workers`, `use_multiprocessing`, `max_queue_size`. Do not pass these arguments to `fit()`, as they will be ignored.\n",
            "  self._warn_if_super_not_called()\n"
          ]
        },
        {
          "output_type": "stream",
          "name": "stdout",
          "text": [
            "\u001b[1m251/251\u001b[0m \u001b[32m━━━━━━━━━━━━━━━━━━━━\u001b[0m\u001b[37m\u001b[0m \u001b[1m397s\u001b[0m 2s/step - accuracy: 0.7834 - loss: 0.6775 - val_accuracy: 0.7985 - val_loss: 0.6311\n",
            "Epoch 2/5\n",
            "\u001b[1m251/251\u001b[0m \u001b[32m━━━━━━━━━━━━━━━━━━━━\u001b[0m\u001b[37m\u001b[0m \u001b[1m407s\u001b[0m 2s/step - accuracy: 0.8007 - loss: 0.6184 - val_accuracy: 0.7985 - val_loss: 0.5866\n",
            "Epoch 3/5\n",
            "\u001b[1m251/251\u001b[0m \u001b[32m━━━━━━━━━━━━━━━━━━━━\u001b[0m\u001b[37m\u001b[0m \u001b[1m392s\u001b[0m 2s/step - accuracy: 0.8030 - loss: 0.5762 - val_accuracy: 0.7985 - val_loss: 0.5561\n",
            "Epoch 4/5\n",
            "\u001b[1m251/251\u001b[0m \u001b[32m━━━━━━━━━━━━━━━━━━━━\u001b[0m\u001b[37m\u001b[0m \u001b[1m441s\u001b[0m 2s/step - accuracy: 0.8024 - loss: 0.5478 - val_accuracy: 0.7985 - val_loss: 0.5354\n",
            "Epoch 5/5\n",
            "\u001b[1m251/251\u001b[0m \u001b[32m━━━━━━━━━━━━━━━━━━━━\u001b[0m\u001b[37m\u001b[0m \u001b[1m389s\u001b[0m 2s/step - accuracy: 0.7974 - loss: 0.5325 - val_accuracy: 0.7985 - val_loss: 0.5221\n"
          ]
        },
        {
          "output_type": "execute_result",
          "data": {
            "text/plain": [
              "<keras.src.callbacks.history.History at 0x7b468c1f4890>"
            ]
          },
          "metadata": {},
          "execution_count": 20
        }
      ]
    },
    {
      "cell_type": "code",
      "source": [
        "base_model.trainable = True\n",
        "\n",
        "model.compile(optimizer=tf.keras.optimizers.Adam(1e-5),\n",
        "              loss='binary_crossentropy', metrics=['accuracy']\n",
        "              )\n",
        "model.fit(train_generator, epochs=3, validation_data=val_generator)\n"
      ],
      "metadata": {
        "colab": {
          "base_uri": "https://localhost:8080/"
        },
        "id": "56Cdz0uTNINu",
        "outputId": "a74a9e3d-2b83-48bb-cf72-1d4c96069080"
      },
      "execution_count": null,
      "outputs": [
        {
          "output_type": "stream",
          "name": "stdout",
          "text": [
            "Epoch 1/3\n",
            "\u001b[1m251/251\u001b[0m \u001b[32m━━━━━━━━━━━━━━━━━━━━\u001b[0m\u001b[37m\u001b[0m \u001b[1m1684s\u001b[0m 7s/step - accuracy: 0.7993 - loss: 0.5214 - val_accuracy: 0.7985 - val_loss: 0.5220\n",
            "Epoch 2/3\n",
            "\u001b[1m251/251\u001b[0m \u001b[32m━━━━━━━━━━━━━━━━━━━━\u001b[0m\u001b[37m\u001b[0m \u001b[1m1693s\u001b[0m 7s/step - accuracy: 0.8001 - loss: 0.5205 - val_accuracy: 0.7985 - val_loss: 0.5218\n",
            "Epoch 3/3\n",
            "\u001b[1m251/251\u001b[0m \u001b[32m━━━━━━━━━━━━━━━━━━━━\u001b[0m\u001b[37m\u001b[0m \u001b[1m1641s\u001b[0m 7s/step - accuracy: 0.8034 - loss: 0.5173 - val_accuracy: 0.7985 - val_loss: 0.5216\n"
          ]
        },
        {
          "output_type": "execute_result",
          "data": {
            "text/plain": [
              "<keras.src.callbacks.history.History at 0x7b461d5c9190>"
            ]
          },
          "metadata": {},
          "execution_count": 21
        }
      ]
    },
    {
      "cell_type": "code",
      "source": [
        "model.save('mobilenet_cats_dogs.h5')\n",
        "\n",
        "#To load\n",
        "import  tensorflow as tf\n",
        "loaded_model = tf.keras.models.load_model('mobilenet_cats_dogs.h5')"
      ],
      "metadata": {
        "colab": {
          "base_uri": "https://localhost:8080/"
        },
        "id": "x0BEgSarQaAd",
        "outputId": "13b544bc-1e5f-4787-d2d1-22c64bce88d9"
      },
      "execution_count": null,
      "outputs": [
        {
          "output_type": "stream",
          "name": "stderr",
          "text": [
            "WARNING:absl:You are saving your model as an HDF5 file via `model.save()` or `keras.saving.save_model(model)`. This file format is considered legacy. We recommend using instead the native Keras format, e.g. `model.save('my_model.keras')` or `keras.saving.save_model(model, 'my_model.keras')`. \n",
            "WARNING:absl:Compiled the loaded model, but the compiled metrics have yet to be built. `model.compile_metrics` will be empty until you train or evaluate the model.\n"
          ]
        }
      ]
    },
    {
      "cell_type": "code",
      "source": [
        "# @title\n",
        "from sklearn.metrics import roc_curve, auc\n",
        "\n",
        "y_pred_proba=loaded_model.predict(val_generator)\n",
        "fpr,tpr,_=roc_curve(val_generator.classes,y_pred_proba)\n",
        "\n",
        "roc_auc=auc(fpr,tpr)\n",
        "plt.plot(fpr, tpr, label=f'ROC Curve (AUC = {roc_auc:.2f})')\n",
        "plt.plot([0, 1], [0, 1], 'k--')\n",
        "plt.xlabel(\"False Positive Rate\")\n",
        "plt.ylabel(\"True Positive Rate\")\n",
        "plt.legend()\n",
        "plt.show()"
      ],
      "metadata": {
        "colab": {
          "base_uri": "https://localhost:8080/",
          "height": 466
        },
        "id": "LcrzFWVrRtbg",
        "outputId": "1718f35b-e9eb-4537-872b-b6dc9eb57112"
      },
      "execution_count": null,
      "outputs": [
        {
          "output_type": "stream",
          "name": "stdout",
          "text": [
            "\u001b[1m63/63\u001b[0m \u001b[32m━━━━━━━━━━━━━━━━━━━━\u001b[0m\u001b[37m\u001b[0m \u001b[1m73s\u001b[0m 1s/step\n"
          ]
        },
        {
          "output_type": "display_data",
          "data": {
            "text/plain": [
              "<Figure size 640x480 with 1 Axes>"
            ],
            "image/png": "[encoded data removed]"
          },
          "metadata": {}
        }
      ]
    },
    {
      "cell_type": "markdown",
      "source": [
        "##Day 05\n",
        "**How to Predict on New Data?**\n",
        "\n",
        "Once your model is trained and saved, you can use it to make predictions on new, unseen data.\n",
        "\n",
        "Steps:\n",
        "\n",
        "1. Load the trained model from file.\n",
        "\n",
        "2. Preprocess the new data the same way you did for training (resize, normalize, etc.).\n",
        "\n",
        "3. Feed the data into the model using model.predict() (Keras) or model.forward() (PyTorch).\n",
        "\n",
        "4. Interpret the output:\n",
        "\n",
        "* If classification → pick the label with the highest probability.\n",
        "\n",
        "* If regression → read the predicted numeric value.\n",
        "\n",
        "Example (Image Classification):\n",
        "\n",
        "* Input: New cat photo\n",
        "\n",
        "* Output: [Cat: 0.92, Dog: 0.06, Rabbit: 0.02] → Model predicts Cat.\n",
        "\n",
        "\n",
        "\n",
        "**How to Create Portfolio Assets?**\n",
        "\n",
        "Portfolio assets show your skills to employers or clients. For image recognition projects, you can create:\n",
        "\n",
        "* **GitHub Repo** → Code, datasets (or dataset links), and README file.\n",
        "\n",
        "* **Jupyter Notebook** → With step-by-step explanations, code, and results.\n",
        "\n",
        "* **Before/After Images** → Show input images and predictions.\n",
        "\n",
        "* **Short Demo Video** → Show the model in action (web app, mobile app).\n",
        "\n",
        "* **Blog Post** → Explain problem, approach, and results in plain language.\n",
        "\n",
        "Tip: Use a clean structure in GitHub:\n",
        "\n",
        "project/\n",
        "\n",
        " ├── data/\n",
        "\n",
        " ├── notebooks/\n",
        "\n",
        " ├── models/\n",
        "\n",
        " ├── app/\n",
        "\n",
        " ├── README.md\n",
        "\n",
        "\n",
        "**How to Present Results?**\n",
        "When sharing your results, keep them clear, visual, and easy to understand.\n",
        "\n",
        "Include:\n",
        "\n",
        "* **Problem Statement** → What you were trying to solve.\n",
        "\n",
        "* **Dataset Info** → Size, source, any preprocessing.\n",
        "\n",
        "* **Model Used** → CNN, transfer learning, etc.\n",
        "\n",
        "* **Key Metrics** → Accuracy, precision, recall, F1 score, etc.\n",
        "\n",
        "* **Visuals:**\n",
        "\n",
        "  * Graphs of training vs validation accuracy/loss\n",
        "\n",
        "  * Confusion matrix for classification problems\n",
        "\n",
        "  * Example predictions with correct/incorrect cases\n",
        "\n",
        "* **Conclusion** → Summary of performance and possible improvements."
      ],
      "metadata": {
        "id": "xC0sQfc5wsl1"
      }
    },
    {
      "cell_type": "code",
      "source": [
        "from google.colab import files\n",
        "# uploaded = files.upload()  # Upload e.g. 'mycat.jpg' - this line is commented out to use a file already in the dataset\n",
        "\n",
        "from tensorflow.keras.preprocessing import image\n",
        "from tensorflow.keras.applications.mobilenet_v2 import preprocess_input\n",
        "import numpy as np\n",
        "\n",
        "# Update the image path to point to an actual image file in the dataset\n",
        "img_path = '/content/cat.4001.jpg'  # Example: using a cat image\n",
        "img = image.load_img(img_path, target_size=(224, 224))\n",
        "img_array = image.img_to_array(img)\n",
        "img_array = np.expand_dims(img_array, axis=0)\n",
        "img_array = preprocess_input(img_array)\n",
        "\n",
        "prediction = loaded_model.predict(img_array)\n",
        "print(\"Prediction:\", prediction)\n",
        "print(\"Predicted class:\", \"Cat\" if prediction[0][0] > 0.5 else \"Dog\")"
      ],
      "metadata": {
        "colab": {
          "base_uri": "https://localhost:8080/"
        },
        "id": "auTVXVO7wzJ0",
        "outputId": "9f6ff049-2eaa-4020-efb7-8e75a8454e27"
      },
      "execution_count": 45,
      "outputs": [
        {
          "output_type": "stream",
          "name": "stdout",
          "text": [
            "\u001b[1m1/1\u001b[0m \u001b[32m━━━━━━━━━━━━━━━━━━━━\u001b[0m\u001b[37m\u001b[0m \u001b[1m0s\u001b[0m 85ms/step\n",
            "Prediction: [[0.7130065]]\n",
            "Predicted class: Cat\n"
          ]
        }
      ]
    },
    {
      "cell_type": "code",
      "source": [
        "import matplotlib.pyplot as plt\n",
        "datasets = ['MNIST', 'CIFAR-10', 'Cats vs. Dogs']\n",
        "accuracies = [0.98, 0.75, 0.84]\n",
        "plt.bar(datasets, accuracies, color=['#36A2EB', '#FF6384', '#4BC0C0'])\n",
        "plt.title('Model Accuracies Across Datasets')\n",
        "plt.xlabel('Dataset')\n",
        "plt.ylabel('Accuracy')\n",
        "plt.ylim(0,1)\n",
        "plt.show()"
      ],
      "metadata": {
        "colab": {
          "base_uri": "https://localhost:8080/",
          "height": 472
        },
        "id": "iJ7qX0NJyKbM",
        "outputId": "f0c04e6f-f619-477a-e99a-16b2282e3afa"
      },
      "execution_count": null,
      "outputs": [
        {
          "output_type": "display_data",
          "data": {
            "text/plain": [
              "<Figure size 640x480 with 1 Axes>"
            ],
            "image/png": "[encoded data removed]"
          },
          "metadata": {}
        }
      ]
    }
  ]
}